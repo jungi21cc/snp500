{
 "cells": [
  {
   "cell_type": "code",
   "execution_count": null,
   "metadata": {},
   "outputs": [],
   "source": [
    "import bs4 as bs\n",
    "import datetime as dt\n",
    "import os\n",
    "import pandas_datareader.data as web\n",
    "import pickle\n",
    "import requests\n",
    "import time"
   ]
  },
  {
   "cell_type": "code",
   "execution_count": null,
   "metadata": {},
   "outputs": [],
   "source": [
    "def get_list():\n",
    "    resp = requests.get('http://en.wikipedia.org/wiki/List_of_S%26P_500_companies')\n",
    "    soup = bs.BeautifulSoup(resp.text, 'lxml')\n",
    "    table = soup.find('table', {'class': 'wikitable sortable'})\n",
    "    ticks = []\n",
    "    for row in table.findAll('tr')[1:]:\n",
    "        tick = row.findAll('td')[0].text\n",
    "        ticks.append(tick)\n",
    "\n",
    "    tickers = ticks[0:500]\n",
    "    print(len(tickers))\n",
    "    with open(\"snp500.pickle\", \"wb\") as f:\n",
    "        pickle.dump(tickers, f)\n",
    "    return tickers\n",
    "\n",
    "tickers = get_list()"
   ]
  },
  {
   "cell_type": "code",
   "execution_count": null,
   "metadata": {},
   "outputs": [],
   "source": [
    "def get_data():\n",
    "\n",
    "    with open(\"snp500.pickle\", \"rb\") as f:\n",
    "        tickers = pickle.load(f)\n",
    "\n",
    "    if not os.path.exists('stocks'):\n",
    "        os.makedirs('stocks')\n",
    "\n",
    "    start = dt.datetime(2016, 1, 1)\n",
    "    end = dt.datetime.now()\n",
    "    \n",
    "    for ticker in tickers:\n",
    "        temp = web.DataReader(ticker, 'iex', start, end)\n",
    "        temp.to_csv('stocks/{}.csv'.format(ticker))\n",
    "\n",
    "get_data()"
   ]
  },
  {
   "cell_type": "code",
   "execution_count": null,
   "metadata": {},
   "outputs": [],
   "source": [
    "def convert_df():\n",
    "\n",
    "    with open(\"snp500.pickle\", \"rb\") as f:\n",
    "        tickers = pickle.load(f)\n",
    "       \n",
    "    stocks = pd.DataFrame()\n",
    "    \n",
    "    for ticker in tickers:\n",
    "        close = pd.read_csv('stocks/{}.csv'.format(ticker)).close\n",
    "        stocks[ticker] = close\n",
    "    \n",
    "    lists1 = pd.read_csv('stocks/{}.csv'.format(tickers[0])).date.values\n",
    "    \n",
    "    stocks.index = lists1\n",
    "    \n",
    "    return stocks\n",
    "\n",
    "stocks = convert_df()"
   ]
  },
  {
   "cell_type": "code",
   "execution_count": null,
   "metadata": {},
   "outputs": [],
   "source": [
    "print(len(stocks))\n",
    "\n",
    "stocks.head()"
   ]
  }
 ],
 "metadata": {
  "kernelspec": {
   "display_name": "Python 3",
   "language": "python",
   "name": "python3"
  },
  "language_info": {
   "codemirror_mode": {
    "name": "ipython",
    "version": 3
   },
   "file_extension": ".py",
   "mimetype": "text/x-python",
   "name": "python",
   "nbconvert_exporter": "python",
   "pygments_lexer": "ipython3",
   "version": "3.6.5"
  }
 },
 "nbformat": 4,
 "nbformat_minor": 2
}
